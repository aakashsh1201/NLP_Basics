{
 "cells": [
  {
   "cell_type": "markdown",
   "id": "f360f3a9",
   "metadata": {
    "ExecuteTime": {
     "end_time": "2022-08-09T11:10:39.442695Z",
     "start_time": "2022-08-09T11:10:39.410935Z"
    }
   },
   "source": [
    "## SAMPLE TEXT"
   ]
  },
  {
   "cell_type": "code",
   "execution_count": 1,
   "id": "6e47b693",
   "metadata": {
    "ExecuteTime": {
     "end_time": "2022-08-09T11:16:16.063686Z",
     "start_time": "2022-08-09T11:16:16.049695Z"
    }
   },
   "outputs": [],
   "source": [
    "paragraph = \"\"\"I have three visions for India. In 3000 years of our history, people from all over \n",
    "               the world have come and invaded us, captured our lands, conquered our minds. \n",
    "               From Alexander onwards, the Greeks, the Turks, the Moguls, the Portuguese, the British,\n",
    "               the French, the Dutch, all of them came and looted us, took over what was ours. \n",
    "               Yet we have not done this to any other nation. We have not conquered anyone. \n",
    "               We have not grabbed their land, their culture, \n",
    "               their history and tried to enforce our way of life on them. \n",
    "               Why? Because we respect the freedom of others.That is why my \n",
    "               first vision is that of freedom. I believe that India got its first vision of \n",
    "               this in 1857, when we started the War of Independence. It is this freedom that\n",
    "               we must protect and nurture and build on. If we are not free, no one will respect us.\n",
    "               My second vision for India’s development. For fifty years we have been a developing nation.\n",
    "               It is time we see ourselves as a developed nation. We are among the top 5 nations of the world\n",
    "               in terms of GDP. We have a 10 percent growth rate in most areas. Our poverty levels are falling.\n",
    "               Our achievements are being globally recognised today. Yet we lack the self-confidence to\n",
    "               see ourselves as a developed nation, self-reliant and self-assured. Isn’t this incorrect?\n",
    "               I have a third vision. India must stand up to the world. Because I believe that unless India \n",
    "               stands up to the world, no one will respect us. Only strength respects strength. We must be \n",
    "               strong not only as a military power but also as an economic power. Both must go hand-in-hand. \n",
    "               My good fortune was to have worked with three great minds. Dr. Vikram Sarabhai of the Dept. of \n",
    "               space, Professor Satish Dhawan, who succeeded him and Dr. Brahm Prakash, father of nuclear material.\n",
    "               I was lucky to have worked with all three of them closely and consider this the great opportunity of my life. \n",
    "               I see four milestones in my career\"\"\""
   ]
  },
  {
   "cell_type": "code",
   "execution_count": 2,
   "id": "a5132adc",
   "metadata": {
    "ExecuteTime": {
     "end_time": "2022-08-09T11:16:16.944471Z",
     "start_time": "2022-08-09T11:16:16.065670Z"
    }
   },
   "outputs": [],
   "source": [
    "import nltk"
   ]
  },
  {
   "cell_type": "code",
   "execution_count": 3,
   "id": "1088a492",
   "metadata": {
    "ExecuteTime": {
     "end_time": "2022-08-09T11:16:16.960213Z",
     "start_time": "2022-08-09T11:16:16.946509Z"
    }
   },
   "outputs": [],
   "source": [
    "from nltk.corpus import stopwords"
   ]
  },
  {
   "cell_type": "code",
   "execution_count": 4,
   "id": "569c3e31",
   "metadata": {
    "ExecuteTime": {
     "end_time": "2022-08-09T11:16:16.976205Z",
     "start_time": "2022-08-09T11:16:16.963207Z"
    }
   },
   "outputs": [],
   "source": [
    "from nltk.stem import PorterStemmer\n",
    "from nltk.stem import WordNetLemmatizer"
   ]
  },
  {
   "cell_type": "code",
   "execution_count": 5,
   "id": "bd2e3373",
   "metadata": {
    "ExecuteTime": {
     "end_time": "2022-08-09T11:16:16.992195Z",
     "start_time": "2022-08-09T11:16:16.977198Z"
    }
   },
   "outputs": [],
   "source": [
    "sentences = nltk.sent_tokenize(paragraph)"
   ]
  },
  {
   "cell_type": "code",
   "execution_count": 6,
   "id": "6c8aa56c",
   "metadata": {
    "ExecuteTime": {
     "end_time": "2022-08-09T11:16:17.008203Z",
     "start_time": "2022-08-09T11:16:16.994179Z"
    }
   },
   "outputs": [],
   "source": [
    "stemmer=PorterStemmer()\n",
    "lemmatizer = WordNetLemmatizer()"
   ]
  },
  {
   "cell_type": "markdown",
   "id": "5ad71e50",
   "metadata": {},
   "source": [
    "## STEMMING"
   ]
  },
  {
   "cell_type": "code",
   "execution_count": 7,
   "id": "80eeb4e2",
   "metadata": {
    "ExecuteTime": {
     "end_time": "2022-08-09T11:16:17.103632Z",
     "start_time": "2022-08-09T11:16:17.009200Z"
    }
   },
   "outputs": [],
   "source": [
    "stemmed_sentences=[]\n",
    "for i in range(len(sentences)):\n",
    "    words = nltk.word_tokenize(sentences[i])\n",
    "    words = [stemmer.stem(word) for word in words if word not in set(stopwords.words('english'))]\n",
    "    stemmed_sentences.append(words)   "
   ]
  },
  {
   "cell_type": "code",
   "execution_count": 8,
   "id": "c5c09796",
   "metadata": {
    "ExecuteTime": {
     "end_time": "2022-08-09T11:16:17.119338Z",
     "start_time": "2022-08-09T11:16:17.104375Z"
    }
   },
   "outputs": [
    {
     "data": {
      "text/plain": [
       "[['i', 'three', 'vision', 'india', '.'],\n",
       " ['in',\n",
       "  '3000',\n",
       "  'year',\n",
       "  'histori',\n",
       "  ',',\n",
       "  'peopl',\n",
       "  'world',\n",
       "  'come',\n",
       "  'invad',\n",
       "  'us',\n",
       "  ',',\n",
       "  'captur',\n",
       "  'land',\n",
       "  ',',\n",
       "  'conquer',\n",
       "  'mind',\n",
       "  '.'],\n",
       " ['from',\n",
       "  'alexand',\n",
       "  'onward',\n",
       "  ',',\n",
       "  'greek',\n",
       "  ',',\n",
       "  'turk',\n",
       "  ',',\n",
       "  'mogul',\n",
       "  ',',\n",
       "  'portugues',\n",
       "  ',',\n",
       "  'british',\n",
       "  ',',\n",
       "  'french',\n",
       "  ',',\n",
       "  'dutch',\n",
       "  ',',\n",
       "  'came',\n",
       "  'loot',\n",
       "  'us',\n",
       "  ',',\n",
       "  'took',\n",
       "  '.'],\n",
       " ['yet', 'done', 'nation', '.'],\n",
       " ['we', 'conquer', 'anyon', '.'],\n",
       " ['we',\n",
       "  'grab',\n",
       "  'land',\n",
       "  ',',\n",
       "  'cultur',\n",
       "  ',',\n",
       "  'histori',\n",
       "  'tri',\n",
       "  'enforc',\n",
       "  'way',\n",
       "  'life',\n",
       "  '.'],\n",
       " ['whi', '?'],\n",
       " ['becaus',\n",
       "  'respect',\n",
       "  'freedom',\n",
       "  'others.that',\n",
       "  'first',\n",
       "  'vision',\n",
       "  'freedom',\n",
       "  '.'],\n",
       " ['i',\n",
       "  'believ',\n",
       "  'india',\n",
       "  'got',\n",
       "  'first',\n",
       "  'vision',\n",
       "  '1857',\n",
       "  ',',\n",
       "  'start',\n",
       "  'war',\n",
       "  'independ',\n",
       "  '.'],\n",
       " ['it', 'freedom', 'must', 'protect', 'nurtur', 'build', '.'],\n",
       " ['if', 'free', ',', 'one', 'respect', 'us', '.'],\n",
       " ['my', 'second', 'vision', 'india', '’', 'develop', '.'],\n",
       " ['for', 'fifti', 'year', 'develop', 'nation', '.'],\n",
       " ['it', 'time', 'see', 'develop', 'nation', '.'],\n",
       " ['we', 'among', 'top', '5', 'nation', 'world', 'term', 'gdp', '.'],\n",
       " ['we', '10', 'percent', 'growth', 'rate', 'area', '.'],\n",
       " ['our', 'poverti', 'level', 'fall', '.'],\n",
       " ['our', 'achiev', 'global', 'recognis', 'today', '.'],\n",
       " ['yet',\n",
       "  'lack',\n",
       "  'self-confid',\n",
       "  'see',\n",
       "  'develop',\n",
       "  'nation',\n",
       "  ',',\n",
       "  'self-reli',\n",
       "  'self-assur',\n",
       "  '.'],\n",
       " ['isn', '’', 'incorrect', '?'],\n",
       " ['i', 'third', 'vision', '.'],\n",
       " ['india', 'must', 'stand', 'world', '.'],\n",
       " ['becaus',\n",
       "  'i',\n",
       "  'believ',\n",
       "  'unless',\n",
       "  'india',\n",
       "  'stand',\n",
       "  'world',\n",
       "  ',',\n",
       "  'one',\n",
       "  'respect',\n",
       "  'us',\n",
       "  '.'],\n",
       " ['onli', 'strength', 'respect', 'strength', '.'],\n",
       " ['we', 'must', 'strong', 'militari', 'power', 'also', 'econom', 'power', '.'],\n",
       " ['both', 'must', 'go', 'hand-in-hand', '.'],\n",
       " ['my', 'good', 'fortun', 'work', 'three', 'great', 'mind', '.'],\n",
       " ['dr.', 'vikram', 'sarabhai', 'dept', '.'],\n",
       " ['space',\n",
       "  ',',\n",
       "  'professor',\n",
       "  'satish',\n",
       "  'dhawan',\n",
       "  ',',\n",
       "  'succeed',\n",
       "  'dr.',\n",
       "  'brahm',\n",
       "  'prakash',\n",
       "  ',',\n",
       "  'father',\n",
       "  'nuclear',\n",
       "  'materi',\n",
       "  '.'],\n",
       " ['i',\n",
       "  'lucki',\n",
       "  'work',\n",
       "  'three',\n",
       "  'close',\n",
       "  'consid',\n",
       "  'great',\n",
       "  'opportun',\n",
       "  'life',\n",
       "  '.'],\n",
       " ['i', 'see', 'four', 'mileston', 'career']]"
      ]
     },
     "execution_count": 8,
     "metadata": {},
     "output_type": "execute_result"
    }
   ],
   "source": [
    "stemmed_sentences"
   ]
  },
  {
   "cell_type": "markdown",
   "id": "9afa3fe0",
   "metadata": {},
   "source": [
    "## LEMMATIZATION"
   ]
  },
  {
   "cell_type": "code",
   "execution_count": 9,
   "id": "601211c5",
   "metadata": {
    "ExecuteTime": {
     "end_time": "2022-08-09T11:16:18.288696Z",
     "start_time": "2022-08-09T11:16:17.120336Z"
    }
   },
   "outputs": [],
   "source": [
    "# Lemmatization\n",
    "lemmatized_sentences=[]\n",
    "for i in range(len(sentences)):\n",
    "    words = nltk.word_tokenize(sentences[i])\n",
    "    words = [lemmatizer.lemmatize(word) for word in words if word not in set(stopwords.words('english'))]\n",
    "    lemmatized_sentences.append(words)    "
   ]
  },
  {
   "cell_type": "code",
   "execution_count": 10,
   "id": "e1ea2666",
   "metadata": {
    "ExecuteTime": {
     "end_time": "2022-08-09T11:16:18.304607Z",
     "start_time": "2022-08-09T11:16:18.291642Z"
    }
   },
   "outputs": [
    {
     "data": {
      "text/plain": [
       "[['I', 'three', 'vision', 'India', '.'],\n",
       " ['In',\n",
       "  '3000',\n",
       "  'year',\n",
       "  'history',\n",
       "  ',',\n",
       "  'people',\n",
       "  'world',\n",
       "  'come',\n",
       "  'invaded',\n",
       "  'u',\n",
       "  ',',\n",
       "  'captured',\n",
       "  'land',\n",
       "  ',',\n",
       "  'conquered',\n",
       "  'mind',\n",
       "  '.'],\n",
       " ['From',\n",
       "  'Alexander',\n",
       "  'onwards',\n",
       "  ',',\n",
       "  'Greeks',\n",
       "  ',',\n",
       "  'Turks',\n",
       "  ',',\n",
       "  'Moguls',\n",
       "  ',',\n",
       "  'Portuguese',\n",
       "  ',',\n",
       "  'British',\n",
       "  ',',\n",
       "  'French',\n",
       "  ',',\n",
       "  'Dutch',\n",
       "  ',',\n",
       "  'came',\n",
       "  'looted',\n",
       "  'u',\n",
       "  ',',\n",
       "  'took',\n",
       "  '.'],\n",
       " ['Yet', 'done', 'nation', '.'],\n",
       " ['We', 'conquered', 'anyone', '.'],\n",
       " ['We',\n",
       "  'grabbed',\n",
       "  'land',\n",
       "  ',',\n",
       "  'culture',\n",
       "  ',',\n",
       "  'history',\n",
       "  'tried',\n",
       "  'enforce',\n",
       "  'way',\n",
       "  'life',\n",
       "  '.'],\n",
       " ['Why', '?'],\n",
       " ['Because',\n",
       "  'respect',\n",
       "  'freedom',\n",
       "  'others.That',\n",
       "  'first',\n",
       "  'vision',\n",
       "  'freedom',\n",
       "  '.'],\n",
       " ['I',\n",
       "  'believe',\n",
       "  'India',\n",
       "  'got',\n",
       "  'first',\n",
       "  'vision',\n",
       "  '1857',\n",
       "  ',',\n",
       "  'started',\n",
       "  'War',\n",
       "  'Independence',\n",
       "  '.'],\n",
       " ['It', 'freedom', 'must', 'protect', 'nurture', 'build', '.'],\n",
       " ['If', 'free', ',', 'one', 'respect', 'u', '.'],\n",
       " ['My', 'second', 'vision', 'India', '’', 'development', '.'],\n",
       " ['For', 'fifty', 'year', 'developing', 'nation', '.'],\n",
       " ['It', 'time', 'see', 'developed', 'nation', '.'],\n",
       " ['We', 'among', 'top', '5', 'nation', 'world', 'term', 'GDP', '.'],\n",
       " ['We', '10', 'percent', 'growth', 'rate', 'area', '.'],\n",
       " ['Our', 'poverty', 'level', 'falling', '.'],\n",
       " ['Our', 'achievement', 'globally', 'recognised', 'today', '.'],\n",
       " ['Yet',\n",
       "  'lack',\n",
       "  'self-confidence',\n",
       "  'see',\n",
       "  'developed',\n",
       "  'nation',\n",
       "  ',',\n",
       "  'self-reliant',\n",
       "  'self-assured',\n",
       "  '.'],\n",
       " ['Isn', '’', 'incorrect', '?'],\n",
       " ['I', 'third', 'vision', '.'],\n",
       " ['India', 'must', 'stand', 'world', '.'],\n",
       " ['Because',\n",
       "  'I',\n",
       "  'believe',\n",
       "  'unless',\n",
       "  'India',\n",
       "  'stand',\n",
       "  'world',\n",
       "  ',',\n",
       "  'one',\n",
       "  'respect',\n",
       "  'u',\n",
       "  '.'],\n",
       " ['Only', 'strength', 'respect', 'strength', '.'],\n",
       " ['We',\n",
       "  'must',\n",
       "  'strong',\n",
       "  'military',\n",
       "  'power',\n",
       "  'also',\n",
       "  'economic',\n",
       "  'power',\n",
       "  '.'],\n",
       " ['Both', 'must', 'go', 'hand-in-hand', '.'],\n",
       " ['My', 'good', 'fortune', 'worked', 'three', 'great', 'mind', '.'],\n",
       " ['Dr.', 'Vikram', 'Sarabhai', 'Dept', '.'],\n",
       " ['space',\n",
       "  ',',\n",
       "  'Professor',\n",
       "  'Satish',\n",
       "  'Dhawan',\n",
       "  ',',\n",
       "  'succeeded',\n",
       "  'Dr.',\n",
       "  'Brahm',\n",
       "  'Prakash',\n",
       "  ',',\n",
       "  'father',\n",
       "  'nuclear',\n",
       "  'material',\n",
       "  '.'],\n",
       " ['I',\n",
       "  'lucky',\n",
       "  'worked',\n",
       "  'three',\n",
       "  'closely',\n",
       "  'consider',\n",
       "  'great',\n",
       "  'opportunity',\n",
       "  'life',\n",
       "  '.'],\n",
       " ['I', 'see', 'four', 'milestone', 'career']]"
      ]
     },
     "execution_count": 10,
     "metadata": {},
     "output_type": "execute_result"
    }
   ],
   "source": [
    "lemmatized_sentences"
   ]
  }
 ],
 "metadata": {
  "kernelspec": {
   "display_name": "Python 3 (ipykernel)",
   "language": "python",
   "name": "python3"
  },
  "language_info": {
   "codemirror_mode": {
    "name": "ipython",
    "version": 3
   },
   "file_extension": ".py",
   "mimetype": "text/x-python",
   "name": "python",
   "nbconvert_exporter": "python",
   "pygments_lexer": "ipython3",
   "version": "3.10.4"
  },
  "toc": {
   "base_numbering": 1,
   "nav_menu": {},
   "number_sections": true,
   "sideBar": true,
   "skip_h1_title": false,
   "title_cell": "Table of Contents",
   "title_sidebar": "Contents",
   "toc_cell": false,
   "toc_position": {},
   "toc_section_display": true,
   "toc_window_display": false
  }
 },
 "nbformat": 4,
 "nbformat_minor": 5
}
